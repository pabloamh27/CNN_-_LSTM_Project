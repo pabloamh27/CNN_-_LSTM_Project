{
 "cells": [
  {
   "attachments": {},
   "cell_type": "markdown",
   "metadata": {
    "colab_type": "text",
    "id": "ehUxc7AtDfU5"
   },
   "source": [
    "### ITCR - Escuela de Computación\n",
    "### Curso IC-6200 - Inteligencia Artificial\n",
    "### Aprendizaje supervisado\n",
    "\n",
    "\n",
    "### Projecto 3 parte 2:Análisis de emociones con redes neuronales recurrentes LSTM utilizando Pytorch.\n",
    "\n",
    "\n",
    "Profesora: María Auxiliadora Mora\n",
    "\n",
    "Estudiantes:\n",
    " 1. Pablo Alberto Muñoz Hidalgo\n",
    " 2. Luis Andrés Rojas Murillo\n",
    "\n",
    "Entregables: Un archivo en Jupyter ( .IPYNB ). \n",
    "\n",
    "Modo de trabajo: En parejas.\n",
    "\n",
    "---\n",
    "\n",
    "Objetivo: El objetivo de este ejercicio de modelado es analizar el sentimiento en el texto utilizando la red neuronal LSTM recurrente de Pytorch. El objetivo principal es clasificar el texto de los tuits en cuatro clases que contienen más registros emocionales.\n",
    "\n",
    "Problema: el problema es detectar emociones en el texto analizando tweets etiquetados con diferentes tipos de emociones. El objetivo es reconocer y reconocer las emociones presentes en las letras como el entusiasmo, el odio, la alegría y la tristeza. El conjunto de datos provisto contiene tweets etiquetados con el sentimiento expresado en ellos y tiene tres columnas que contienen la ID del tweet, el sentimiento (clase) presente en el tweet y el cuerpo del tweet. ."
   ]
  },
  {
   "attachments": {},
   "cell_type": "markdown",
   "metadata": {
    "colab_type": "text",
    "id": "yyr84u8ab1kw"
   },
   "source": [
    "## Introducción\n",
    "\n",
    "La clasificación de textos y el reconocimiento de entidades nombradas (Named Entity Recognition o NER por sus siglas en inglés) son técnicas fundamentales que constituyen el primer paso en muchas tareas de Procesamiento de lenguaje natural (NLP). NER, es un área de investigación relacionada a la extracción de información, que permite localizar y clasificar nombres de entidades que se encuentran en texto libre, en categorías comunmente organizaciones, lugares, tiempo, personas, entre otros. Ejemplo:\n",
    "\n",
    "- El fundador de [Microsoft Corporation] (organización), [Bill Gates] (persona), comentó que se abrirán 1000 puestos de trabajo en la [Región Chorotega] (lugar) a partir del año 2022 (fecha).  \n",
    "\n",
    "La clasificación de textos permite categorizar el contenido asociando este a un conjunto de etiquetas predefinidas o clases. Su uso más popular es el análisis de sentimientos. Ejemplo:\n",
    "\n",
    "- En mi opinión, la película fue muy buena porque pudo dar a conocer a los espectadores cómo puede afectar una situación traumática a la mente humana. (Clase = 5 o excelente). \n",
    "\n",
    "Las redes neuronales recurrentes o RNN (Rumelhart et al., 1986, como se citó en LeCun et al., 2015) son una familia de redes neuronales para el procesamiento de secuencias de datos, las cuales en un tiempo t, reciben el estado anterior, es decir, su salida en el tiempo t podría usarse como insumo del procesamiento de la siguiente entrada, de modo que la información pueda propagarse a medida que la red pasa por la secuencia de entrada. Las redes Long Short-Term Memory (LSTM) son un tipo de red neuronal recurrente capaz de aprender dependencias a largo plazo.\n",
    "\n",
    "El siguiente ejemplo implementa NER con una LSTM para etiquetar el rol que juegan las palabras en las oraciones. \n",
    "\n",
    "\n",
    "## Ejemplo\n",
    "\n",
    "El sistema implementado en el código adjunto soluciona el problema de estimar el rol de una palabra en una frase, por ejempo roles como determinante (DET), nombre (NN) y verbo (V). \n",
    "Ejemplo para la frase:\n",
    "\n",
    "- \"El perro come manzana\" la salida deberá ser: [\"DET\", \"NN\", \"V\", \"NN\"]). \n",
    "\n",
    "Este proceso se conoce en el procesamiento de lenguaje natural como \"part of speech tagging (POS)\".\n",
    "\n",
    "Este es un ejemplo simple con datos introducidos en el código basado en [1].\n",
    "\n",
    "Se realizarán los siguientes pasos\n",
    "\n",
    "   * Definición de los ejemplos (codificados) \n",
    "   * Preprocesamiento de las palabras a clasificar\n",
    "   * Definición del modelo\n",
    "   * Instanciación del modelo, definición de la función de pérdida y del optimizador  \n",
    "   * Entrenamiento de la red\n",
    "   * Pruebas del modelo resultante con unos cuantos ejemplos.\n"
   ]
  },
  {
   "cell_type": "code",
   "execution_count": 344,
   "metadata": {
    "colab": {
     "base_uri": "https://localhost:8080/",
     "height": 34
    },
    "colab_type": "code",
    "id": "gmqx6kMSDfU9",
    "outputId": "c6a51d34-4aeb-4cd4-ed22-b92d297ea46e"
   },
   "outputs": [
    {
     "data": {
      "text/plain": [
       "<torch._C.Generator at 0x2f624cfce70>"
      ]
     },
     "execution_count": 344,
     "metadata": {},
     "output_type": "execute_result"
    }
   ],
   "source": [
    "# Bibliotecas requeridas\n",
    "import nltk\n",
    "from nltk.corpus import stopwords\n",
    "from nltk.tokenize import word_tokenize\n",
    "import torch\n",
    "import os\n",
    "import torch.nn as nn\n",
    "import torch.nn.functional as F\n",
    "import torch.optim as optim\n",
    "import csv\n",
    "import random\n",
    "import numpy as np\n",
    "import matplotlib.pyplot as plt\n",
    "#Import scikit learn metrics\n",
    "from sklearn import metrics\n",
    "import re\n",
    "import pandas as pd\n",
    "\n",
    "\n",
    "\n",
    "torch.manual_seed(1)"
   ]
  },
  {
   "cell_type": "code",
   "execution_count": 345,
   "metadata": {
    "colab": {},
    "colab_type": "code",
    "id": "VsFmju8xDfVQ"
   },
   "outputs": [],
   "source": [
    "# Funciones utilitarias\n",
    "\n",
    "def max_values(x):\n",
    "    \"\"\"\n",
    "    Retorna el valor máximo y en índice o la posición del valor en un vector x.\n",
    "    Parámetros: \n",
    "        x: vector con los datos. \n",
    "    Salida: \n",
    "        out: valor \n",
    "        inds: índice\n",
    "    \"\"\"\n",
    "    out, inds = torch.max(x,dim=1)   \n",
    "    return out, inds\n",
    "    \n",
    "\n",
    "    # Preparación de los datos \n",
    "def prepare_sequence(seq, to_ix):\n",
    "    \"\"\"\n",
    "    Retorna un tensor con los indices del diccionario para cada palabras en una oración.\n",
    "    Parámetros:\n",
    "       seq: oración\n",
    "       to_ix: diccionario de palabras.\n",
    "    \"\"\"\n",
    "    idxs = [to_ix[w] for w in seq]\n",
    "    return torch.tensor(idxs, dtype=torch.long)\n"
   ]
  },
  {
   "attachments": {},
   "cell_type": "markdown",
   "metadata": {},
   "source": [
    "#### Lectura del csv"
   ]
  },
  {
   "cell_type": "code",
   "execution_count": 346,
   "metadata": {},
   "outputs": [],
   "source": [
    "#Delete tweets.csv\n",
    "if os.path.exists(\"tweets.csv\"):\n",
    "    os.remove(\"tweets.csv\")\n",
    "else:\n",
    "    print(\"The file does not exist\")\n",
    "\n",
    "with open('tweet_emotions.csv', 'r') as file:\n",
    "    #Copy all contents to tweet.csv\n",
    "    with open('tweets.csv', 'w') as file2:\n",
    "        file2.write(file.read())\n",
    "        file2.close()\n",
    "    file.close()\n",
    "\n",
    "with open('tweets.csv', 'r') as file:\n",
    "    data = list(csv.reader(file))\n",
    "    file.close()\n",
    "\n",
    "with open('tweets.csv', 'w') as file:\n",
    "    writer = csv.writer(file)\n",
    "    writer.writerows(data)"
   ]
  },
  {
   "attachments": {},
   "cell_type": "markdown",
   "metadata": {},
   "source": [
    "##### Limpieza de los datos "
   ]
  },
  {
   "cell_type": "code",
   "execution_count": 347,
   "metadata": {},
   "outputs": [
    {
     "name": "stderr",
     "output_type": "stream",
     "text": [
      "[nltk_data] Downloading package stopwords to\n",
      "[nltk_data]     C:\\Users\\oscar\\AppData\\Roaming\\nltk_data...\n",
      "[nltk_data]   Package stopwords is already up-to-date!\n",
      "[nltk_data] Downloading package punkt to\n",
      "[nltk_data]     C:\\Users\\oscar\\AppData\\Roaming\\nltk_data...\n",
      "[nltk_data]   Package punkt is already up-to-date!\n"
     ]
    }
   ],
   "source": [
    "\n",
    "nltk.download('stopwords')\n",
    "nltk.download('punkt')\n",
    "\n",
    "def remove_stopwords_from_list(lst):\n",
    "    stop_words = set(stopwords.words('english'))\n",
    "    for i in lst:\n",
    "        if len(i) == 3 and isinstance(i[2], str):\n",
    "            tokens = word_tokenize(i[2])\n",
    "            filtered_tokens = [word for word in tokens if word.lower() not in stop_words]\n",
    "            i[2] = ' '.join(filtered_tokens)\n",
    "\n",
    "    return lst\n",
    "\n",
    "\n",
    "\n",
    "def check_if_exist_incomplete_data(lst):\n",
    "    for i in lst:\n",
    "        if len(i) != 3:\n",
    "            #se elimina el registro\n",
    "            lst.remove(i)\n",
    "        else:\n",
    "            pass\n",
    "    return lst\n",
    "\n",
    "def all_to_lower_case(lst):\n",
    "    for i in lst:\n",
    "        i[2] = i[2].lower()\n",
    "    return lst\n",
    "\n",
    "\n",
    "\n",
    "def clean_tweet_text(lst):\n",
    "    for tweet in lst:\n",
    "        # Eliminar menciones de usuarios (@usuario)\n",
    "        tweet[2] = re.sub(r'@[A-Za-z0-9_]+', ' _at_ ', tweet[2])\n",
    "        \n",
    "        # Eliminar URLs (https://t.co/...)      \n",
    "        tweet[2] = re.sub(r'https?://[A-Za-z0-9./]+', ' _url_ ', tweet[2])\n",
    "\n",
    "        # Eliminar caracteres hashtag (#)\n",
    "        tweet[2] = re.sub(r'#[A-Za-z0-9_]+', ' _hashtag_ ', tweet[2])\n",
    "\n",
    "        # Eliminar caracteres de signos de puntuación (-), (*), (.), (,), (,), (!), (?), (\"), (\"), ('), (;), ((), ([), (=), (/), (\\), (@), (#) y (:) uno a uno\n",
    "    \n",
    "        tweet[2] = re.sub(r'[-]', ' _gui_ ', tweet[2])\n",
    "        tweet[2] = re.sub(r'[*]', ' _ast_ ', tweet[2])\n",
    "        tweet[2] = re.sub(r'[.]', ' _dat_ ', tweet[2])\n",
    "        tweet[2] = re.sub(r'[,]', ' _com_ ', tweet[2])\n",
    "        tweet[2] = re.sub(r'[!]', ' _exc_ ', tweet[2])\n",
    "        tweet[2] = re.sub(r'[?]', ' _int_ ', tweet[2])\n",
    "        tweet[2] = re.sub(r'[\"]', ' _quo_ ', tweet[2])\n",
    "        tweet[2] = re.sub(r\"[']\", \" _clo_ \", tweet[2])\n",
    "        tweet[2] = re.sub(r'[;]', ' _sem_ ', tweet[2])\n",
    "        tweet[2] = re.sub(r'[(]', ' _par_ ', tweet[2])\n",
    "        tweet[2] = re.sub(r'[)]', ' _par_ ', tweet[2])\n",
    "        tweet[2] = re.sub(r'[\\[]', ' _col_ ', tweet[2])\n",
    "        tweet[2] = re.sub(r'[\\]]', ' _col_ ', tweet[2])\n",
    "        tweet[2] = re.sub(r'[=]', ' _eq_ ', tweet[2])\n",
    "        tweet[2] = re.sub(r'[/]', ' _sla_ ', tweet[2])\n",
    "        tweet[2] = re.sub(r'[\\\\]', ' _sla_ ', tweet[2])\n",
    "        tweet[2] = re.sub(r'[@]', ' _at_ ', tweet[2])\n",
    "        tweet[2] = re.sub(r'[#]', ' _hashtag2_ ', tweet[2])\n",
    "        tweet[2] = re.sub(r'[:]', ' _col_ ', tweet[2])\n",
    "\n",
    "    return lst\n",
    "\n",
    "data = check_if_exist_incomplete_data(data)\n",
    "data = all_to_lower_case(data)\n",
    "data = clean_tweet_text(data)\n",
    "data = remove_stopwords_from_list(data)\n",
    "\n",
    "\n",
    "#se crea un nuevo csv\n",
    "with open('tweets_filtered.csv', 'w') as file:\n",
    "    writer = csv.writer(file)\n",
    "    writer.writerows(data)\n",
    "    file.close()\n",
    "\n",
    "\n",
    "\n",
    "\n",
    "\n"
   ]
  },
  {
   "attachments": {},
   "cell_type": "markdown",
   "metadata": {},
   "source": [
    "##### Estadísticas de los datos cargados"
   ]
  },
  {
   "cell_type": "code",
   "execution_count": 348,
   "metadata": {},
   "outputs": [
    {
     "data": {
      "image/png": "[encoded data removed]",
      "text/plain": [
       "<Figure size 640x480 with 1 Axes>"
      ]
     },
     "metadata": {},
     "output_type": "display_data"
    },
    {
     "data": {
      "image/png": "[encoded data removed]",
      "text/plain": [
       "<Figure size 640x480 with 1 Axes>"
      ]
     },
     "metadata": {},
     "output_type": "display_data"
    }
   ],
   "source": [
    "counter = 0\n",
    "emotions = []\n",
    "\n",
    "#se elimina el primer elemento de la lista, que es el nombre de las columnas\n",
    "data.pop(0)\n",
    "\n",
    "#para todas las clases de emociones\n",
    "for i in data:\n",
    "    if len(emotions) == 0:\n",
    "        emotions.append(i[1])\n",
    "        counter += 1\n",
    "    elif i[1] in emotions:\n",
    "        pass\n",
    "    else:\n",
    "        emotions.append(i[1])\n",
    "        counter += 1\n",
    "\n",
    "\n",
    "#calcuelo de la cantidad de datos por cada emocion\n",
    "emotions_counter = 0\n",
    "emotions_dict = {}\n",
    "for i in emotions:\n",
    "    for j in data:\n",
    "        if i == j[1]:\n",
    "            emotions_counter += 1\n",
    "    emotions_dict[i] = emotions_counter\n",
    "    emotions_counter = 0\n",
    "\n",
    "#grafique meidante una grafica de pastel usando matplotlib el diccionario de emociones\n",
    "# incluye un header que diga \"Emociones y su incidencia en el dataset\"\n",
    "plt.title(\"Emociones y su incidencia en el dataset\")\n",
    "plt.pie(emotions_dict.values(), labels=emotions_dict.keys(), autopct='%1.1f%%', shadow=True, startangle=90)\n",
    "plt.show()\n",
    "\n",
    "#Se crea un histograma del largo de los textos de acuerdo a su emocion\n",
    "#se crea un diccionario con las emociones y sus textos\n",
    "emotions_text = {}\n",
    "for i in emotions:\n",
    "    emotions_text[i] = []\n",
    "    for j in data:\n",
    "        if i == j[1]:\n",
    "            emotions_text[i].append(j[2])\n",
    "\n",
    "\n",
    "#se crea un diccionario con las emociones y sus largos de textos\n",
    "emotions_text_len = {}\n",
    "for i in emotions_text:\n",
    "    emotions_text_len[i] = []\n",
    "    for j in emotions_text[i]:\n",
    "        emotions_text_len[i].append(len(j))\n",
    "\n",
    "\n",
    "#se establece un promedio de largo de texto por emocion\n",
    "emotions_text_len_mean = {}\n",
    "for i in emotions_text_len:\n",
    "    emotions_text_len_mean[i] = sum(emotions_text_len[i])/len(emotions_text_len[i])\n",
    "\n",
    "#se grafica el largo de los textos por emocion\n",
    "plt.title(\"Largo de los textos por emocion\")\n",
    "plt.barh(range(len(emotions_text_len_mean)), list(emotions_text_len_mean.values()), align='center')\n",
    "plt.yticks(range(len(emotions_text_len_mean)), list(emotions_text_len_mean.keys()))\n",
    "plt.show()\n",
    "\n"
   ]
  },
  {
   "attachments": {},
   "cell_type": "markdown",
   "metadata": {},
   "source": [
    "##### Selección de datos \n",
    "\n",
    "Los datos de la 4 clases preponderantes estan en el registro `emotions_text_sorted`"
   ]
  },
  {
   "cell_type": "code",
   "execution_count": 349,
   "metadata": {},
   "outputs": [
    {
     "name": "stdout",
     "output_type": "stream",
     "text": [
      "[('neutral', 8638), ('worry', 8459), ('happiness', 5209), ('sadness', 5165), ('love', 3842), ('surprise', 2187), ('fun', 1776), ('relief', 1526), ('hate', 1323), ('empty', 827), ('enthusiasm', 759), ('boredom', 179), ('anger', 110)]\n",
      "[('neutral', 8638), ('worry', 8459), ('happiness', 5209), ('sadness', 5165)]\n",
      "['neutral', '_at_ want trade someone houston tickets _com_ one _dat_']\n"
     ]
    }
   ],
   "source": [
    "#Seleccione un subconjunto de los registros que corresponda a las cuatro clases con la mayor incidencia en el dataset.\n",
    "#tomando como referencia el grafico de pastel anterior\n",
    "#se seleccionan las 4 emociones con mayor incidencia\n",
    "\n",
    "emotions_dict_sorted = sorted(emotions_dict.items(), key=lambda x: x[1], reverse=True)\n",
    "print(emotions_dict_sorted)\n",
    "emotions_dict_sorted = emotions_dict_sorted[:4]\n",
    "print(emotions_dict_sorted)\n",
    "emotions_dict_sorted = dict(emotions_dict_sorted)\n",
    "\n",
    "\n",
    "\n",
    "#se agrega al diccionario los textos correspondientes a esa clase \n",
    "emotions_text_sorted = {}\n",
    "for i in emotions_dict_sorted:\n",
    "    for j in emotions_text:\n",
    "        if i == j:\n",
    "            emotions_text_sorted[i] = emotions_text[j]\n",
    "    \n",
    "\n",
    "work_data = []\n",
    "for i in emotions_text_sorted:\n",
    "    for j in emotions_text_sorted[i]:\n",
    "        work_data.append([i, j])\n",
    "\n",
    "print(work_data[0])"
   ]
  },
  {
   "attachments": {},
   "cell_type": "markdown",
   "metadata": {},
   "source": [
    "Clasificiacaion normal de los datos en train y test"
   ]
  },
  {
   "cell_type": "code",
   "execution_count": 350,
   "metadata": {},
   "outputs": [
    {
     "data": {
      "image/png": "[encoded data removed]",
      "text/plain": [
       "<Figure size 640x480 with 1 Axes>"
      ]
     },
     "metadata": {},
     "output_type": "display_data"
    },
    {
     "name": "stdout",
     "output_type": "stream",
     "text": [
      "Training data:\n",
      "[['happiness'], ['_at_', 'thank', 'broooooooo', '_exc_', '_exc_', '_exc_', '_exc_', '_clo_', 'twitter', 'loop', 'today', '_exc_']]\n",
      "Test data:\n",
      "[['neutral'], ['_at_', 'maybe', 'cause', 'look', 'innocent']]\n",
      "Diccionario de sentimientos {'happiness': 0, 'worry': 1, 'neutral': 2, 'sadness': 3}\n",
      "Diccionario de palabras 23871\n"
     ]
    }
   ],
   "source": [
    "\n",
    "# Divide the data into training and testing sets\n",
    "random.shuffle(work_data)\n",
    "split = int(0.8 * len(work_data))\n",
    "training_data = work_data[:split]\n",
    "test_data = work_data[split:]\n",
    "\n",
    "\n",
    "\n",
    "\n",
    "# Diccionario de los sentimientos\n",
    "sentiments_to_ix = {}\n",
    "for sent, tags in training_data + test_data:\n",
    "    if sent not in sentiments_to_ix:\n",
    "        sentiments_to_ix[sent] = len(sentiments_to_ix)\n",
    "\"\"\"# Diccionario de los sentimientos\n",
    "sentiments_to_ix = {}\n",
    "for sent, tags in training_data + test_data:\n",
    "    for tag in sent:\n",
    "        if tag not in sentiments_to_ix:\n",
    "            sentiments_to_ix[tag] = len(sentiments_to_ix)\"\"\"\n",
    "\n",
    "\n",
    "#se cuentan las palabras por sentimiento en train y test\n",
    "sentiments_counter_train = {}\n",
    "for i in sentiments_to_ix:\n",
    "    sentiments_counter_train[i] = 0\n",
    "    for j in training_data:\n",
    "        if i == j[0]:\n",
    "            sentiments_counter_train[i] += 1\n",
    "\n",
    "sentiments_counter_test = {}\n",
    "for i in sentiments_to_ix:\n",
    "    sentiments_counter_test[i] = 0\n",
    "    for j in test_data:\n",
    "        if i == j[0]:\n",
    "            sentiments_counter_test[i] += 1\n",
    "\n",
    "\n",
    "plt.title(\"Palabras por sentimiento en train y test\")\n",
    "plt.plot(sentiments_counter_train.keys(), sentiments_counter_train.values(), label=\"train\")\n",
    "plt.plot(sentiments_counter_test.keys(), sentiments_counter_test.values(), label=\"test\")\n",
    "plt.legend()\n",
    "plt.show()\n",
    "\n",
    "\n",
    "# Split the training data into text and labels\n",
    "for i in range(len(training_data)):\n",
    "    splitted_text = training_data[i][1].split(' ')\n",
    "    #put the rest of i in other list\n",
    "    labels = []\n",
    "    labels.append(training_data[i][0])\n",
    "    training_data[i][1] = splitted_text\n",
    "    training_data[i][0] = labels\n",
    "\n",
    "# Split the test data into text and labels\n",
    "for i in range(len(test_data)):\n",
    "    splitted_text = test_data[i][1].split(' ')\n",
    "    #put the rest of i in other list\n",
    "    labels = []\n",
    "    labels.append(test_data[i][0])\n",
    "    test_data[i][1] = splitted_text\n",
    "    test_data[i][0] = labels\n",
    "\n",
    "# print the data\n",
    "print(\"Training data:\")\n",
    "print(training_data[0])\n",
    "print(\"Test data:\")\n",
    "print(test_data[0])\n",
    "\n",
    "# Get all words into word_to_ix dictionary , keep in mind that all sentences are in the [1] of every sentence\n",
    "word_to_ix = {}\n",
    "for sent, tags in training_data + test_data:\n",
    "    for word in tags:\n",
    "        if word not in word_to_ix:\n",
    "            word_to_ix[word] = len(word_to_ix)\n",
    "            \n",
    "print(\"Diccionario de sentimientos\", sentiments_to_ix)\n",
    "print(\"Diccionario de palabras\", len(word_to_ix))\n",
    "\n",
    "\n",
    "\n",
    "\n",
    "\n",
    "\n"
   ]
  },
  {
   "cell_type": "code",
   "execution_count": 351,
   "metadata": {},
   "outputs": [
    {
     "name": "stdout",
     "output_type": "stream",
     "text": [
      "['always', 'wake', 'one', 'minute', 'alarm', 'scheduled', 'go', '_int_', '_int_']\n",
      "tensor([ 8,  9, 10, 11, 12, 13, 14, 15, 15])\n",
      "['worry']\n",
      "tensor([1])\n"
     ]
    }
   ],
   "source": [
    "# Ejemplo de procesamiento de una oración\n",
    "inputs = prepare_sequence(training_data[1][1], word_to_ix)\n",
    "print(training_data[1][1])                          \n",
    "print(inputs)\n",
    "\n",
    "# Ejemplo de procesamiento de una oración\n",
    "inputs = prepare_sequence(training_data[1][0], sentiments_to_ix)\n",
    "print(training_data[1][0])                          \n",
    "print(inputs)"
   ]
  },
  {
   "cell_type": "code",
   "execution_count": 352,
   "metadata": {
    "colab": {},
    "colab_type": "code",
    "id": "JLmaT08_DfVm"
   },
   "outputs": [],
   "source": [
    "# Definición del modelo\n",
    "\n",
    "# El modelo es una clase que debe heredar de nn.Module\n",
    "class LSTMTagger(nn.Module):\n",
    "    \"\"\"\n",
    "    Clase para aplicar POST a oraciones en español. \n",
    "    \"\"\"\n",
    "    \n",
    "    # Incialización del modelo\n",
    "    def __init__(self, embedding_dim, hidden_dim, vocab_size, tagset_size):\n",
    "        \"\"\"\n",
    "        Inicialización de la clase.\n",
    "        Parámetros:\n",
    "           embedding_dim: dimesionalidad del vector de palabras. \n",
    "           hidden_dim: dimensión de la capa oculta de la red. \n",
    "           vocab_size: tamaño del vocabulario.  \n",
    "           tagset_size: número de clases.\n",
    "        \"\"\"\n",
    "        super(LSTMTagger, self).__init__()\n",
    "        self.hidden_dim = hidden_dim\n",
    "\n",
    "        # Primero se pasa la entrada a través de una capa Embedding. \n",
    "        # Esta capa construye una representación de los tokens de \n",
    "        # un texto donde las palabras que tienen el mismo significado \n",
    "        # tienen una representación similar.\n",
    "        \n",
    "        # Esta capa captura mejor el contexto y son espacialmente \n",
    "        # más eficientes que las representaciones vectoriales (one-hot vector).\n",
    "        # En Pytorch, se usa el módulo nn.Embedding para crear esta capa, \n",
    "        # que toma el tamaño del vocabulario y la longitud deseada del vector \n",
    "        # de palabras como entrada. Ejemplos en [3] y [4]\n",
    "        self.word_embeddings = nn.Embedding(vocab_size, embedding_dim)\n",
    "\n",
    "        # El LSTM toma word_embeddings como entrada y genera los estados ocultos\n",
    "        # con dimensionalidad hidden_dim.  \n",
    "        self.lstm = nn.LSTM(embedding_dim, hidden_dim)\n",
    "\n",
    "        # La capa lineal mapea el espacio de estado oculto \n",
    "        # al espacio de clases\n",
    "        self.hidden2tag = nn.Linear(hidden_dim, tagset_size)\n",
    "\n",
    "    def forward(self, sentence):\n",
    "        # Pasada hacia adelante de la red. \n",
    "        # Parámetros:\n",
    "        #    sentence: la oración a procesar\n",
    "        embeds = self.word_embeddings(sentence)\n",
    "        lstm_out, _ = self.lstm(embeds.view(len(sentence), 1, -1))\n",
    "        tag_space = self.hidden2tag(lstm_out.view(len(sentence), -1))\n",
    "\n",
    "        # Se utiliza softmax para devolver la probabilidad de cada etiqueta\n",
    "        tag_scores = F.log_softmax(tag_space, dim=1)\n",
    "        return tag_scores\n",
    "    \n",
    "\n"
   ]
  },
  {
   "cell_type": "code",
   "execution_count": 353,
   "metadata": {
    "colab": {},
    "colab_type": "code",
    "id": "mHhOk08h1qY2"
   },
   "outputs": [],
   "source": [
    "\n",
    "# Instanciación del modelo, definición de la función de pérdida y del optimizador   \n",
    "\n",
    "# Hiperparámetros de la red\n",
    "# Valores generalmente altos (32 o 64 dimensiones).\n",
    "#Nodos se subieron a 10 con la intencion para experimentar\n",
    "EMBEDDING_DIM = 10\n",
    "HIDDEN_DIM = 10\n",
    "\n",
    "\n",
    "\n",
    "# Instancia del modelo\n",
    "model = LSTMTagger(EMBEDDING_DIM, HIDDEN_DIM, len(word_to_ix), len(sentiments_to_ix))\n",
    "\n",
    "# Función de pérdida: Negative Log Likelihood Loss (NLLL). \n",
    "# Generalmente utilizada en problemas de clasificacion con múltiples clases.\n",
    "loss_function = nn.NLLLoss()\n",
    "\n",
    "# Optimizador Stochastic Gradient Descent  \n",
    "optimizer = optim.SGD(model.parameters(), lr=0.1)"
   ]
  },
  {
   "cell_type": "code",
   "execution_count": 356,
   "metadata": {
    "colab": {
     "base_uri": "https://localhost:8080/",
     "height": 173
    },
    "colab_type": "code",
    "id": "bRYCyKy-DfVu",
    "outputId": "5ccdff4d-dcca-4545-81bf-69a396ec4fae"
   },
   "outputs": [
    {
     "name": "stdout",
     "output_type": "stream",
     "text": [
      "['_at_', 'thank', 'broooooooo', '_exc_', '_exc_', '_exc_', '_exc_', '_clo_', 'twitter', 'loop', 'today', '_exc_']\n",
      "tensor([[-1.5149, -1.3340, -1.5204, -1.2102],\n",
      "        [-1.6442, -1.2097, -1.5561, -1.2121],\n",
      "        [-1.6134, -1.1747, -1.6558, -1.2008],\n",
      "        [-1.5402, -1.2809, -1.7165, -1.1142],\n",
      "        [-1.4935, -1.3135, -1.7191, -1.1169],\n",
      "        [-1.4647, -1.3276, -1.7095, -1.1308],\n",
      "        [-1.4459, -1.3350, -1.6988, -1.1445],\n",
      "        [-1.5231, -1.3513, -1.5988, -1.1365],\n",
      "        [-1.5544, -1.2735, -1.6854, -1.1287],\n",
      "        [-1.6185, -1.3458, -1.5201, -1.1309],\n",
      "        [-1.6372, -1.3565, -1.5313, -1.1036],\n",
      "        [-1.5420, -1.3227, -1.6455, -1.1187]])\n"
     ]
    },
    {
     "ename": "ValueError",
     "evalue": "Expected input batch_size (12) to match target batch_size (1).",
     "output_type": "error",
     "traceback": [
      "\u001b[1;31m---------------------------------------------------------------------------\u001b[0m",
      "\u001b[1;31mValueError\u001b[0m                                Traceback (most recent call last)",
      "Cell \u001b[1;32mIn[356], line 31\u001b[0m\n\u001b[0;32m     27\u001b[0m tag_scores \u001b[39m=\u001b[39m model(sentence_in)\n\u001b[0;32m     29\u001b[0m \u001b[39m# Paso 4. se calcula la pérdida, los gradientes, y se actualizan los \u001b[39;00m\n\u001b[0;32m     30\u001b[0m \u001b[39m# parámetros por medio del optimizador.\u001b[39;00m\n\u001b[1;32m---> 31\u001b[0m loss \u001b[39m=\u001b[39m loss_function(tag_scores, targets)\n\u001b[0;32m     32\u001b[0m loss\u001b[39m.\u001b[39mbackward()\n\u001b[0;32m     33\u001b[0m optimizer\u001b[39m.\u001b[39mstep()\n",
      "File \u001b[1;32m~\\AppData\\Local\\Packages\\PythonSoftwareFoundation.Python.3.10_qbz5n2kfra8p0\\LocalCache\\local-packages\\Python310\\site-packages\\torch\\nn\\modules\\module.py:1501\u001b[0m, in \u001b[0;36mModule._call_impl\u001b[1;34m(self, *args, **kwargs)\u001b[0m\n\u001b[0;32m   1496\u001b[0m \u001b[39m# If we don't have any hooks, we want to skip the rest of the logic in\u001b[39;00m\n\u001b[0;32m   1497\u001b[0m \u001b[39m# this function, and just call forward.\u001b[39;00m\n\u001b[0;32m   1498\u001b[0m \u001b[39mif\u001b[39;00m \u001b[39mnot\u001b[39;00m (\u001b[39mself\u001b[39m\u001b[39m.\u001b[39m_backward_hooks \u001b[39mor\u001b[39;00m \u001b[39mself\u001b[39m\u001b[39m.\u001b[39m_backward_pre_hooks \u001b[39mor\u001b[39;00m \u001b[39mself\u001b[39m\u001b[39m.\u001b[39m_forward_hooks \u001b[39mor\u001b[39;00m \u001b[39mself\u001b[39m\u001b[39m.\u001b[39m_forward_pre_hooks\n\u001b[0;32m   1499\u001b[0m         \u001b[39mor\u001b[39;00m _global_backward_pre_hooks \u001b[39mor\u001b[39;00m _global_backward_hooks\n\u001b[0;32m   1500\u001b[0m         \u001b[39mor\u001b[39;00m _global_forward_hooks \u001b[39mor\u001b[39;00m _global_forward_pre_hooks):\n\u001b[1;32m-> 1501\u001b[0m     \u001b[39mreturn\u001b[39;00m forward_call(\u001b[39m*\u001b[39margs, \u001b[39m*\u001b[39m\u001b[39m*\u001b[39mkwargs)\n\u001b[0;32m   1502\u001b[0m \u001b[39m# Do not call functions when jit is used\u001b[39;00m\n\u001b[0;32m   1503\u001b[0m full_backward_hooks, non_full_backward_hooks \u001b[39m=\u001b[39m [], []\n",
      "File \u001b[1;32m~\\AppData\\Local\\Packages\\PythonSoftwareFoundation.Python.3.10_qbz5n2kfra8p0\\LocalCache\\local-packages\\Python310\\site-packages\\torch\\nn\\modules\\loss.py:216\u001b[0m, in \u001b[0;36mNLLLoss.forward\u001b[1;34m(self, input, target)\u001b[0m\n\u001b[0;32m    215\u001b[0m \u001b[39mdef\u001b[39;00m \u001b[39mforward\u001b[39m(\u001b[39mself\u001b[39m, \u001b[39minput\u001b[39m: Tensor, target: Tensor) \u001b[39m-\u001b[39m\u001b[39m>\u001b[39m Tensor:\n\u001b[1;32m--> 216\u001b[0m     \u001b[39mreturn\u001b[39;00m F\u001b[39m.\u001b[39;49mnll_loss(\u001b[39minput\u001b[39;49m, target, weight\u001b[39m=\u001b[39;49m\u001b[39mself\u001b[39;49m\u001b[39m.\u001b[39;49mweight, ignore_index\u001b[39m=\u001b[39;49m\u001b[39mself\u001b[39;49m\u001b[39m.\u001b[39;49mignore_index, reduction\u001b[39m=\u001b[39;49m\u001b[39mself\u001b[39;49m\u001b[39m.\u001b[39;49mreduction)\n",
      "File \u001b[1;32m~\\AppData\\Local\\Packages\\PythonSoftwareFoundation.Python.3.10_qbz5n2kfra8p0\\LocalCache\\local-packages\\Python310\\site-packages\\torch\\nn\\functional.py:2704\u001b[0m, in \u001b[0;36mnll_loss\u001b[1;34m(input, target, weight, size_average, ignore_index, reduce, reduction)\u001b[0m\n\u001b[0;32m   2702\u001b[0m \u001b[39mif\u001b[39;00m size_average \u001b[39mis\u001b[39;00m \u001b[39mnot\u001b[39;00m \u001b[39mNone\u001b[39;00m \u001b[39mor\u001b[39;00m reduce \u001b[39mis\u001b[39;00m \u001b[39mnot\u001b[39;00m \u001b[39mNone\u001b[39;00m:\n\u001b[0;32m   2703\u001b[0m     reduction \u001b[39m=\u001b[39m _Reduction\u001b[39m.\u001b[39mlegacy_get_string(size_average, reduce)\n\u001b[1;32m-> 2704\u001b[0m \u001b[39mreturn\u001b[39;00m torch\u001b[39m.\u001b[39;49m_C\u001b[39m.\u001b[39;49m_nn\u001b[39m.\u001b[39;49mnll_loss_nd(\u001b[39minput\u001b[39;49m, target, weight, _Reduction\u001b[39m.\u001b[39;49mget_enum(reduction), ignore_index)\n",
      "\u001b[1;31mValueError\u001b[0m: Expected input batch_size (12) to match target batch_size (1)."
     ]
    }
   ],
   "source": [
    "# Entrenamiento del modelo \n",
    "\n",
    "# Valores antes de entrenar\n",
    "with torch.no_grad():\n",
    "    inputs = prepare_sequence(training_data[0][1], word_to_ix)\n",
    "    tag_scores = model(inputs)\n",
    "    \n",
    "    print(training_data[0][1])\n",
    "    \n",
    "    # Clasificación    \n",
    "    print(tag_scores)\n",
    "\n",
    "acc =0\n",
    "# Épocas de entrenamiento\n",
    "for epoch in range(200):  \n",
    "    for sentiment, sentence in training_data:\n",
    "        ## Paso 1. Pytorch acumula los gradientes.\n",
    "        # Es necesario limpiarlos\n",
    "        model.zero_grad()\n",
    "\n",
    "        # Paso 2. Se preparan las entradas, es decir, se convierten a\n",
    "        # tensores de índices de palabras.\n",
    "        targets = prepare_sequence(sentiment, sentiments_to_ix)\n",
    "        sentence_in = prepare_sequence(sentence, word_to_ix)\n",
    "\n",
    "        # Paso 3. Se genera la predicción (forward pass).\n",
    "        tag_scores = model(sentence_in)\n",
    "\n",
    "        # Paso 4. se calcula la pérdida, los gradientes, y se actualizan los \n",
    "        # parámetros por medio del optimizador.\n",
    "        loss = loss_function(tag_scores, targets)\n",
    "        loss.backward()\n",
    "        optimizer.step()\n",
    "    \n",
    "\n",
    "# Despligue de la puntuación luego del entrenamiento\n",
    "with torch.no_grad():\n",
    "    inputs = prepare_sequence(training_data[0][0], word_to_ix)\n",
    "    tag_scores = model(inputs)\n",
    "   \n",
    "    print(\"Resultados luego del entrenamiento para la primera frase\")\n",
    "    print(tag_scores)"
   ]
  },
  {
   "attachments": {},
   "cell_type": "markdown",
   "metadata": {},
   "source": [
    "#### Precision score"
   ]
  },
  {
   "cell_type": "code",
   "execution_count": null,
   "metadata": {},
   "outputs": [],
   "source": [
    "def get_precision_score(model, data):\n",
    "    correct = 0\n",
    "    total = 0\n",
    "    for sentence, tags in data:\n",
    "        sentence_in = prepare_sequence(sentence, word_to_ix)\n",
    "        targets = prepare_sequence(tags, tag_to_ix)\n",
    "        tag_scores = model(sentence_in)\n",
    "        for i in range(len(tag_scores)):\n",
    "            total += 1\n",
    "            if torch.argmax(tag_scores[i]) == targets[i]:\n",
    "                correct += 1\n",
    "    return correct/total\n",
    "\n",
    "print(\"Precision score for training data: \", get_precision_score(model, training_data)*100, \"%\")\n",
    "\n"
   ]
  },
  {
   "attachments": {},
   "cell_type": "markdown",
   "metadata": {},
   "source": [
    "#### Exhaustividad"
   ]
  },
  {
   "cell_type": "code",
   "execution_count": null,
   "metadata": {},
   "outputs": [],
   "source": [
    "def recall_score(y_test, y_pred, average):\n",
    "    if average == \"macro\":\n",
    "        recall = 0\n",
    "        for i in range(len(y_test)):\n",
    "            if y_test[i] == y_pred[i]:\n",
    "                recall += 1\n",
    "        return recall/len(y_test)\n",
    "    elif average == \"micro\":\n",
    "        recall = 0\n",
    "        for i in range(len(y_test)):\n",
    "            if y_test[i] == y_pred[i]:\n",
    "                recall += 1\n",
    "        return recall/len(y_test)\n",
    "    elif average == \"weighted\":\n",
    "        recall = 0\n",
    "        for i in range(len(y_test)):\n",
    "            if y_test[i] == y_pred[i]:\n",
    "                recall += 1\n",
    "        return recall/len(y_test)\n",
    "    else:\n",
    "        print(\"Invalid average parameter\")"
   ]
  },
  {
   "attachments": {},
   "cell_type": "markdown",
   "metadata": {},
   "source": [
    "#### F1"
   ]
  },
  {
   "cell_type": "code",
   "execution_count": null,
   "metadata": {},
   "outputs": [],
   "source": [
    "def f1_score(y_true, y_pred, average='macro'):\n",
    "    recall = recall_score(y_test, y_pred, average='macro')\n",
    "    precision = get_precision_score(model, training_data)\n",
    "    return 2 * (precision * recall) / (precision + recall)\n",
    "\n",
    "y_pred = []\n",
    "for sentence, tags in test_data:\n",
    "    sentence_in = prepare_sequence(sentence, word_to_ix)\n",
    "    targets = prepare_sequence(tags, tag_to_ix)\n",
    "    tag_scores = model(sentence_in)\n",
    "    for i in range(len(tag_scores)):\n",
    "        y_pred.append(torch.argmax(tag_scores[i]))\n",
    "\n",
    "\n",
    "y_test = []\n",
    "for sentence, tags in test_data:\n",
    "    sentence_in = prepare_sequence(sentence, word_to_ix)\n",
    "    targets = prepare_sequence(tags, tag_to_ix)\n",
    "    for i in range(len(targets)):\n",
    "        y_test.append(targets[i])\n",
    "        \n",
    "f1_score = f1_score(y_test, y_pred, average='macro')\n",
    "print(\"F1 score: \", f1_score*100, \"%\")\n"
   ]
  },
  {
   "cell_type": "code",
   "execution_count": null,
   "metadata": {
    "colab": {
     "base_uri": "https://localhost:8080/",
     "height": 332
    },
    "colab_type": "code",
    "id": "sPj6v4tsDfV2",
    "outputId": "6e5d5197-c82f-4d22-c74c-cb22c5b20af0"
   },
   "outputs": [],
   "source": [
    "# Uso del modelo generado\n",
    "def test_examples(test_data):\n",
    "\n",
    "   with torch.no_grad():\n",
    "      inputs = prepare_sequence(test_data, word_to_ix)\n",
    "      tag_scores = model(inputs)\n",
    "    \n",
    " \n",
    "   print(\"FRASE\") \n",
    "   print(\"La frase original\", test_data)    \n",
    "   print(\"La frase original preprocesada\", inputs)\n",
    "   print(\"Salida del modelo\", tag_scores)\n",
    "   print(\"Valores máximos e índices\", max_values(tag_scores))    \n",
    "    \n",
    "print(\"Clases\")\n",
    "print(tag_to_ix)\n",
    "\n",
    "#Frase 1\n",
    "test_examples(test_data[0][0])\n"
   ]
  },
  {
   "cell_type": "code",
   "execution_count": null,
   "metadata": {},
   "outputs": [],
   "source": [
    "#Frase 2\n",
    "test_examples(test_data[3][0])\n",
    "\n",
    "print(\"valor de las etiquetas\", tag_to_ix)"
   ]
  },
  {
   "cell_type": "code",
   "execution_count": null,
   "metadata": {},
   "outputs": [],
   "source": [
    "# Otra prueba\n",
    "test_examples(test_data[2][0])\n",
    "print(\"valor de las etiquetas\", tag_to_ix)"
   ]
  },
  {
   "attachments": {},
   "cell_type": "markdown",
   "metadata": {},
   "source": [
    "## Conclusiones\n",
    "\n",
    "1. En el caso de LSTM consideramos que es un tipo de red neuronal recurrente especialmente eficaz para procesar datos secuenciales. EL punto fuerte de LSTM es que puede recordar información del pasado y utilizarla para realizar predicciones en el futuro. Esto hace que las LSTM sean especialmente útiles para tareas como el procesamiento del lenguaje natural, el reconocimiento del habla, el análisis de vídeo, entre otros.\n",
    "2. Nos dimos cuenta que el LSTM no solo se puede aplicar al NLP, también tiene otras aplicaciones en las que por su memoria y capacidad de recordar el pasado para aplicarlo al futuro se convierte útil en aplicaciones en áreas como las finanzas, la medicina, la robótica y la composición musical. Por ejemplo, investigando un poco sobre LSTM encontramos que en finanzas, LSTM se ha utilizado para predecir los precios de las acciones, mientras que en medicina se ha empleado para el diagnóstico de enfermedades y el descubrimiento de fármacos. Por lo que LSTM no solo se limita al NLP y eso lo hace muy valioso.\n",
    "3. También consideramos de vital importancia el tema del NLP el cuál no se debe minimizar ni subestimar ya que es uno subcampos que ha evolucionado rápidamente en los últimos años debido a los avances en las técnicas de aprendizaje automático, la disponibilidad de grandes cantidades de datos de texto y el desarrollo de recursos informáticos más potentes. El mismo subcampo del NLP tiene una amplia gama de aplicaciones, desde los chatbots y los asistentes virtuales hasta el análisis de sentimientos, la traducción automática y la extracción de información.\n",
    "4. Nos parecio muy interesante el tema del POS y como este define mas o menos las instrucciones para la red neuronal, creemos muy importante conocer eso sin embargo nos llama mucho la atención el como podría funcionar una red neuronal no supervisada la cúal casi que no tenga parametros o formas de saber como dividir los datos, solo se le provean resultados. Sin emabrgo la precisión de estos algoritmos varía en función de la complejidad y ambigüedad de la lengua analizada, en el caso del español se tuvo que \"normalizar\" los datos para que no hubieran demasiados problemas.\n",
    "\n",
    "\n",
    "\n",
    "PD: Profe, no estamos muy seguros de si funciona del todo bien el tema de precision, exhaustividad y F1 entonces por razones de tiempo lo entregamos así, sin embargo seguiremos investigando al respecto."
   ]
  },
  {
   "attachments": {},
   "cell_type": "markdown",
   "metadata": {
    "colab_type": "text",
    "id": "wZjYZ9vfDfV9"
   },
   "source": [
    "# Referencias \n",
    "\n",
    "[1] Guthrie, R. (2017). Tutorial. Sequence Models and Long-Short Term Memory Networks. Recuperado de https://pytorch.org/tutorials/beginner/nlp/sequence_models_tutorial.html\n",
    "\n",
    "[2] LeCun,Y., Bengio, Y.,  & Hinton, G. (2015). Deep learning. Nature, 521(7553):436.\n",
    "\n",
    "[3] Brownlee, J. (2017). What Are Word Embeddings for Text?. Recuperado de https://machinelearningmastery.com/what-are-word-embeddings/\n",
    "\n",
    "[4] Bishop, C (2006). Pattern Recognition and Machine Learning. Springer."
   ]
  },
  {
   "cell_type": "code",
   "execution_count": null,
   "metadata": {},
   "outputs": [],
   "source": []
  }
 ],
 "metadata": {
  "colab": {
   "name": "16_POST_with_LSTM_(Esp).ipynb",
   "provenance": []
  },
  "kernelspec": {
   "display_name": "Python 3 (ipykernel)",
   "language": "python",
   "name": "python3"
  },
  "language_info": {
   "codemirror_mode": {
    "name": "ipython",
    "version": 3
   },
   "file_extension": ".py",
   "mimetype": "text/x-python",
   "name": "python",
   "nbconvert_exporter": "python",
   "pygments_lexer": "ipython3",
   "version": "3.10.11"
  }
 },
 "nbformat": 4,
 "nbformat_minor": 1
}
